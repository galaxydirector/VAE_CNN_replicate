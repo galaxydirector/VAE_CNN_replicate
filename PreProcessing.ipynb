{
 "cells": [
  {
   "cell_type": "code",
   "execution_count": null,
   "metadata": {},
   "outputs": [],
   "source": [
    "\"\"\"\n",
    "This file preprocess the image from regular resolution into specific size images, e.g. 128*128\n",
    "An additional function is to extract faces from photos in the database, detect_faces()\n",
    "Thanks for the help from Qi Cao\n",
    "\"\"\"\n",
    "\n",
    "# For image processing\n",
    "import matplotlib.pyplot as plt\n",
    "import numpy as np\n",
    "from skimage import color,io,data\n",
    "from skimage.transform import resize\n",
    "# ---- Face Detection ----\n",
    "import dlib\n",
    "from PIL import Image\n",
    "# ------\n",
    "import os\n",
    "from glob import glob\n",
    "import os.path as path\n",
    "from tqdm import tqdm\n",
    "# path.join('','','') # could be list\n",
    "# path.expanduser('root')"
   ]
  },
  {
   "cell_type": "code",
   "execution_count": null,
   "metadata": {},
   "outputs": [],
   "source": [
    "if not path.isdir('/Users/joecao/vae/data/'):  \n",
    "    os.makedirs('')\n",
    "f_path='/Users/joecao/vae/data/'    # path of input data\n",
    "out_path1='/Users/joecao/vae/data/output/png/'   # path of output png\n",
    "out_path2='/Users/joecao/vae/data/output/npy/'   # path of output npy\n",
    "png_files=glob(path.join(f_path,'*.jpg'))   # list"
   ]
  },
  {
   "cell_type": "code",
   "execution_count": null,
   "metadata": {},
   "outputs": [],
   "source": [
    "png_files"
   ]
  },
  {
   "cell_type": "code",
   "execution_count": null,
   "metadata": {},
   "outputs": [],
   "source": [
    "if not path.isdir(path.expanduser('/home/aitrading/Desktop/GLTransform')):  \n",
    "    os.makedirs('')\n",
    "f_path=path.expanduser('/home/aitrading/Desktop/GLTransform/GoodLooking')    # path of input data\n",
    "out_path1='/home/aitrading/Desktop/GLTransform/output/png128/'   # path of output png\n",
    "out_path2='/home/aitrading/Desktop/GLTransform/output/npy128/'   # path of output npy\n",
    "png_files=glob(path.join(f_path,'*.jpg'))   # list"
   ]
  },
  {
   "cell_type": "code",
   "execution_count": null,
   "metadata": {},
   "outputs": [],
   "source": [
    "# Reference https://stackoverflow.com/questions/13211745/detect-face-then-autocrop-pictures\n",
    "def detect_faces(image):\n",
    "    \"\"\"\n",
    "    input: image import from io.imread()\n",
    "    output: list[list] a nested list with corner positions of each face\n",
    "    \"\"\"\n",
    "    # Create a face detector\n",
    "    face_detector = dlib.get_frontal_face_detector()\n",
    "    # Run detector and get bounding boxes of the faces on image.\n",
    "    detected_faces = face_detector(image, 1)\n",
    "    face_frames = [(x.left(), x.top(),\n",
    "                    x.right(), x.bottom()) for x in detected_faces]\n",
    "    return face_frames\n",
    "# -------- demo -------\n",
    "# Load image\n",
    "# img_path = '/Users/joecao/vae/data/V6562.jpg'\n",
    "# image = io.imread(img_path)\n",
    "# # Detect faces\n",
    "# detected_faces = detect_faces(image)\n",
    "# Crop faces and plot"
   ]
  },
  {
   "cell_type": "code",
   "execution_count": null,
   "metadata": {},
   "outputs": [],
   "source": [
    "for k in tqdm(range(len(png_files))):\n",
    "    img_path=png_files[k]\n",
    "    img_raw=io.imread(img_path)\n",
    "    if len(img_raw.shape)==1:\n",
    "        img_raw=img_raw[0]\n",
    "\n",
    "    # -- to deal with jpg issue\n",
    "    detected_faces=detect_faces(img_raw)\n",
    "    for n, face_rect in enumerate(detected_faces):\n",
    "\n",
    "\n",
    "        face = Image.fromarray(img_raw).crop(face_rect)  # face: <class 'PIL.Image.Image'>\n",
    "        face_ndarr = np.array(face)\n",
    "        img = color.rgb2gray(face_ndarr)\n",
    "        img_minmax=(img-np.min(img))/(np.max(img)-np.min(img))\n",
    "        img_resized = resize(img_minmax, (128,128))\n",
    "\n",
    "        img_rescaled = ((img_resized)*255).astype(np.uint8)   # 0~255\n",
    "        np.save(out_path2+'img_np'+np.str(k)+'_'+np.str(n), img_resized)    # 0~1\n",
    "        io.imsave(out_path1+'img'+np.str(k)+'_'+np.str(n)+'.png',img_rescaled)\n",
    "        # comment the following two lines\n",
    "        io.imshow(img_rescaled,cmap='gray', vmin=0, vmax=255)\n",
    "        plt.show()"
   ]
  }
 ],
 "metadata": {
  "kernelspec": {
   "display_name": "Python 3",
   "language": "python",
   "name": "python3"
  },
  "language_info": {
   "codemirror_mode": {
    "name": "ipython",
    "version": 3
   },
   "file_extension": ".py",
   "mimetype": "text/x-python",
   "name": "python",
   "nbconvert_exporter": "python",
   "pygments_lexer": "ipython3",
   "version": "3.6.2"
  },
  "toc": {
   "base_numbering": 1,
   "nav_menu": {},
   "number_sections": false,
   "sideBar": true,
   "skip_h1_title": false,
   "title_cell": "Table of Contents",
   "title_sidebar": "Contents",
   "toc_cell": false,
   "toc_position": {},
   "toc_section_display": true,
   "toc_window_display": false
  }
 },
 "nbformat": 4,
 "nbformat_minor": 2
}
