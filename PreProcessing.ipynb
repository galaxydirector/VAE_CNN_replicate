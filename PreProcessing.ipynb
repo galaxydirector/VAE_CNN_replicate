{
 "cells": [
  {
   "cell_type": "code",
   "execution_count": 1,
   "metadata": {},
   "outputs": [],
   "source": [
    "# For image processing\n",
    "import matplotlib.pyplot as plt\n",
    "import numpy as np\n",
    "from skimage import color,io,data\n",
    "from skimage.transform import resize\n",
    "# ---- Face Detection ----\n",
    "import dlib\n",
    "from PIL import Image\n",
    "# ------\n",
    "import os\n",
    "from glob import glob\n",
    "import os.path as path\n",
    "from tqdm import tqdm\n",
    "# path.join('','','') # could be list\n",
    "# path.expanduser('root')"
   ]
  },
  {
   "cell_type": "code",
   "execution_count": 2,
   "metadata": {
    "collapsed": true
   },
   "outputs": [
    {
     "ename": "FileNotFoundError",
     "evalue": "[Errno 2] No such file or directory: ''",
     "output_type": "error",
     "traceback": [
      "\u001b[0;31m---------------------------------------------------------------------------\u001b[0m",
      "\u001b[0;31mFileNotFoundError\u001b[0m                         Traceback (most recent call last)",
      "\u001b[0;32m<ipython-input-2-cc393722124c>\u001b[0m in \u001b[0;36m<module>\u001b[0;34m\u001b[0m\n\u001b[1;32m      1\u001b[0m \u001b[0;32mif\u001b[0m \u001b[0;32mnot\u001b[0m \u001b[0mpath\u001b[0m\u001b[0;34m.\u001b[0m\u001b[0misdir\u001b[0m\u001b[0;34m(\u001b[0m\u001b[0;34m'/Users/joecao/vae/data/'\u001b[0m\u001b[0;34m)\u001b[0m\u001b[0;34m:\u001b[0m\u001b[0;34m\u001b[0m\u001b[0m\n\u001b[0;32m----> 2\u001b[0;31m     \u001b[0mos\u001b[0m\u001b[0;34m.\u001b[0m\u001b[0mmakedirs\u001b[0m\u001b[0;34m(\u001b[0m\u001b[0;34m''\u001b[0m\u001b[0;34m)\u001b[0m\u001b[0;34m\u001b[0m\u001b[0m\n\u001b[0m\u001b[1;32m      3\u001b[0m \u001b[0mf_path\u001b[0m\u001b[0;34m=\u001b[0m\u001b[0;34m'/Users/joecao/vae/data/'\u001b[0m    \u001b[0;31m# path of input data\u001b[0m\u001b[0;34m\u001b[0m\u001b[0m\n\u001b[1;32m      4\u001b[0m \u001b[0mout_path1\u001b[0m\u001b[0;34m=\u001b[0m\u001b[0;34m'/Users/joecao/vae/data/output/png1/'\u001b[0m   \u001b[0;31m# path of output png\u001b[0m\u001b[0;34m\u001b[0m\u001b[0m\n\u001b[1;32m      5\u001b[0m \u001b[0mout_path2\u001b[0m\u001b[0;34m=\u001b[0m\u001b[0;34m'/Users/joecao/vae/data/output/npy1/'\u001b[0m   \u001b[0;31m# path of output npy\u001b[0m\u001b[0;34m\u001b[0m\u001b[0m\n",
      "\u001b[0;32m~/anaconda3/lib/python3.6/os.py\u001b[0m in \u001b[0;36mmakedirs\u001b[0;34m(name, mode, exist_ok)\u001b[0m\n\u001b[1;32m    218\u001b[0m             \u001b[0;32mreturn\u001b[0m\u001b[0;34m\u001b[0m\u001b[0m\n\u001b[1;32m    219\u001b[0m     \u001b[0;32mtry\u001b[0m\u001b[0;34m:\u001b[0m\u001b[0;34m\u001b[0m\u001b[0m\n\u001b[0;32m--> 220\u001b[0;31m         \u001b[0mmkdir\u001b[0m\u001b[0;34m(\u001b[0m\u001b[0mname\u001b[0m\u001b[0;34m,\u001b[0m \u001b[0mmode\u001b[0m\u001b[0;34m)\u001b[0m\u001b[0;34m\u001b[0m\u001b[0m\n\u001b[0m\u001b[1;32m    221\u001b[0m     \u001b[0;32mexcept\u001b[0m \u001b[0mOSError\u001b[0m\u001b[0;34m:\u001b[0m\u001b[0;34m\u001b[0m\u001b[0m\n\u001b[1;32m    222\u001b[0m         \u001b[0;31m# Cannot rely on checking for EEXIST, since the operating system\u001b[0m\u001b[0;34m\u001b[0m\u001b[0;34m\u001b[0m\u001b[0m\n",
      "\u001b[0;31mFileNotFoundError\u001b[0m: [Errno 2] No such file or directory: ''"
     ]
    }
   ],
   "source": [
    "if not path.isdir('/Users/joecao/vae/data/'):  \n",
    "    os.makedirs('')\n",
    "f_path='/Users/joecao/vae/data/'    # path of input data\n",
    "out_path1='/Users/joecao/vae/data/output/png1/'   # path of output png\n",
    "out_path2='/Users/joecao/vae/data/output/npy1/'   # path of output npy\n",
    "png_files=glob(path.join(f_path,'*.jpg'))   # list"
   ]
  },
  {
   "cell_type": "code",
   "execution_count": 5,
   "metadata": {},
   "outputs": [],
   "source": [
    "if not path.isdir(path.expanduser('/home/aitrading/Desktop/GLTransform')):  \n",
    "    os.makedirs('')\n",
    "f_path=path.expanduser('/home/aitrading/Desktop/GLTransform/GoodLooking')    # path of input data\n",
    "out_path1='/home/aitrading/Desktop/GLTransform/png1/'   # path of output png\n",
    "out_path2='/home/aitrading/Desktop/GLTransform/npy1/'   # path of output npy\n",
    "png_files=glob(path.join(f_path,'*.jpg'))   # list"
   ]
  },
  {
   "cell_type": "code",
   "execution_count": 6,
   "metadata": {},
   "outputs": [],
   "source": [
    "# Reference https://stackoverflow.com/questions/13211745/detect-face-then-autocrop-pictures\n",
    "def detect_faces(image):\n",
    "    \"\"\"\n",
    "    input: image import from io.imread()\n",
    "    output: list[list] a nested list with corner positions of each face\n",
    "    \"\"\"\n",
    "    # Create a face detector\n",
    "    face_detector = dlib.get_frontal_face_detector()\n",
    "    # Run detector and get bounding boxes of the faces on image.\n",
    "    detected_faces = face_detector(image, 1)\n",
    "    face_frames = [(x.left(), x.top(),\n",
    "                    x.right(), x.bottom()) for x in detected_faces]\n",
    "    return face_frames\n",
    "# -------- demo -------\n",
    "# Load image\n",
    "# img_path = '/Users/joecao/vae/data/V6562.jpg'\n",
    "# image = io.imread(img_path)\n",
    "# # Detect faces\n",
    "# detected_faces = detect_faces(image)\n",
    "# Crop faces and plot"
   ]
  },
  {
   "cell_type": "code",
   "execution_count": 7,
   "metadata": {},
   "outputs": [
    {
     "name": "stderr",
     "output_type": "stream",
     "text": [
      "  0%|          | 1/1465 [00:06<2:36:00,  6.39s/it]\n"
     ]
    },
    {
     "ename": "RuntimeError",
     "evalue": "Expected numpy.ndarray of uint8",
     "output_type": "error",
     "traceback": [
      "\u001b[0;31m---------------------------------------------------------------------------\u001b[0m",
      "\u001b[0;31mRuntimeError\u001b[0m                              Traceback (most recent call last)",
      "\u001b[0;32m<ipython-input-7-61fa9261d35b>\u001b[0m in \u001b[0;36m<module>\u001b[0;34m\u001b[0m\n\u001b[1;32m      2\u001b[0m     \u001b[0mimg_path\u001b[0m\u001b[0;34m=\u001b[0m\u001b[0mpng_files\u001b[0m\u001b[0;34m[\u001b[0m\u001b[0mk\u001b[0m\u001b[0;34m]\u001b[0m\u001b[0;34m\u001b[0m\u001b[0m\n\u001b[1;32m      3\u001b[0m     \u001b[0mimg_raw\u001b[0m\u001b[0;34m=\u001b[0m\u001b[0mio\u001b[0m\u001b[0;34m.\u001b[0m\u001b[0mimread\u001b[0m\u001b[0;34m(\u001b[0m\u001b[0mimg_path\u001b[0m\u001b[0;34m)\u001b[0m\u001b[0;34m\u001b[0m\u001b[0m\n\u001b[0;32m----> 4\u001b[0;31m     \u001b[0mdetected_faces\u001b[0m\u001b[0;34m=\u001b[0m\u001b[0mdetect_faces\u001b[0m\u001b[0;34m(\u001b[0m\u001b[0mimg_raw\u001b[0m\u001b[0;34m)\u001b[0m\u001b[0;34m\u001b[0m\u001b[0m\n\u001b[0m\u001b[1;32m      5\u001b[0m     \u001b[0;32mfor\u001b[0m \u001b[0mn\u001b[0m\u001b[0;34m,\u001b[0m \u001b[0mface_rect\u001b[0m \u001b[0;32min\u001b[0m \u001b[0menumerate\u001b[0m\u001b[0;34m(\u001b[0m\u001b[0mdetected_faces\u001b[0m\u001b[0;34m)\u001b[0m\u001b[0;34m:\u001b[0m\u001b[0;34m\u001b[0m\u001b[0m\n\u001b[1;32m      6\u001b[0m         \u001b[0mface\u001b[0m \u001b[0;34m=\u001b[0m \u001b[0mImage\u001b[0m\u001b[0;34m.\u001b[0m\u001b[0mfromarray\u001b[0m\u001b[0;34m(\u001b[0m\u001b[0mimg_raw\u001b[0m\u001b[0;34m)\u001b[0m\u001b[0;34m.\u001b[0m\u001b[0mcrop\u001b[0m\u001b[0;34m(\u001b[0m\u001b[0mface_rect\u001b[0m\u001b[0;34m)\u001b[0m  \u001b[0;31m# face: <class 'PIL.Image.Image'>\u001b[0m\u001b[0;34m\u001b[0m\u001b[0m\n",
      "\u001b[0;32m<ipython-input-6-ca16939cda35>\u001b[0m in \u001b[0;36mdetect_faces\u001b[0;34m(image)\u001b[0m\n\u001b[1;32m      8\u001b[0m     \u001b[0mface_detector\u001b[0m \u001b[0;34m=\u001b[0m \u001b[0mdlib\u001b[0m\u001b[0;34m.\u001b[0m\u001b[0mget_frontal_face_detector\u001b[0m\u001b[0;34m(\u001b[0m\u001b[0;34m)\u001b[0m\u001b[0;34m\u001b[0m\u001b[0m\n\u001b[1;32m      9\u001b[0m     \u001b[0;31m# Run detector and get bounding boxes of the faces on image.\u001b[0m\u001b[0;34m\u001b[0m\u001b[0;34m\u001b[0m\u001b[0m\n\u001b[0;32m---> 10\u001b[0;31m     \u001b[0mdetected_faces\u001b[0m \u001b[0;34m=\u001b[0m \u001b[0mface_detector\u001b[0m\u001b[0;34m(\u001b[0m\u001b[0mimage\u001b[0m\u001b[0;34m,\u001b[0m \u001b[0;36m1\u001b[0m\u001b[0;34m)\u001b[0m\u001b[0;34m\u001b[0m\u001b[0m\n\u001b[0m\u001b[1;32m     11\u001b[0m     face_frames = [(x.left(), x.top(),\n\u001b[1;32m     12\u001b[0m                     x.right(), x.bottom()) for x in detected_faces]\n",
      "\u001b[0;31mRuntimeError\u001b[0m: Expected numpy.ndarray of uint8"
     ]
    }
   ],
   "source": [
    "for k in tqdm(range(len(png_files))):\n",
    "    img_path=png_files[k]\n",
    "    img_raw=io.imread(img_path)\n",
    "    detected_faces=detect_faces(img_raw)\n",
    "    for n, face_rect in enumerate(detected_faces):\n",
    "        face = Image.fromarray(img_raw).crop(face_rect)  # face: <class 'PIL.Image.Image'>\n",
    "        face_ndarr = np.array(face)\n",
    "        img = color.rgb2gray(face_ndarr)\n",
    "        img_minmax=(img-np.min(img))/(np.max(img)-np.min(img))\n",
    "#         img_resized = resize(img_minmax, (512,512),anti_aliasing=False)\n",
    "#         img_resized=img_minmax\n",
    "#         img_rescaled = ((img_resized)*255).astype(np.uint8)\n",
    "\n",
    "        img_resized = resize(img_minmax, (28,28),anti_aliasing=False)\n",
    "        img_resized=img_minmax\n",
    "        img_rescaled = ((img_resized).astype(np.uint8)\n",
    "        \n",
    "        np.save(out_path2+'img_np'+np.str(k)+'_'+np.str(n), img_rescaled)\n",
    "        io.imsave(out_path1+'img'+np.str(k)+'_'+np.str(n)+'.png',img_rescaled)\n",
    "# comment the following two lines\n",
    "        io.imshow(img_rescaled,cmap='gray', vmin=0, vmax=255)\n",
    "        plt.show()"
   ]
  },
  {
   "cell_type": "code",
   "execution_count": null,
   "metadata": {},
   "outputs": [],
   "source": []
  },
  {
   "cell_type": "code",
   "execution_count": null,
   "metadata": {},
   "outputs": [],
   "source": []
  },
  {
   "cell_type": "code",
   "execution_count": null,
   "metadata": {},
   "outputs": [],
   "source": []
  }
 ],
 "metadata": {
  "kernelspec": {
   "display_name": "Python 3",
   "language": "python",
   "name": "python3"
  },
  "language_info": {
   "codemirror_mode": {
    "name": "ipython",
    "version": 3
   },
   "file_extension": ".py",
   "mimetype": "text/x-python",
   "name": "python",
   "nbconvert_exporter": "python",
   "pygments_lexer": "ipython3",
   "version": "3.6.2"
  },
  "toc": {
   "base_numbering": 1,
   "nav_menu": {},
   "number_sections": false,
   "sideBar": true,
   "skip_h1_title": false,
   "title_cell": "Table of Contents",
   "title_sidebar": "Contents",
   "toc_cell": false,
   "toc_position": {},
   "toc_section_display": true,
   "toc_window_display": false
  }
 },
 "nbformat": 4,
 "nbformat_minor": 2
}
